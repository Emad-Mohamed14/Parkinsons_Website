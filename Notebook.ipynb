{
 "cells": [
  {
   "cell_type": "code",
   "execution_count": 3,
   "metadata": {},
   "outputs": [
    {
     "name": "stdout",
     "output_type": "stream",
     "text": [
      "<class 'tuple'>\n",
      "The model does not have 'feature_importances_' attribute.\n"
     ]
    }
   ],
   "source": [
    "import joblib\n",
    "import numpy as np\n",
    "import matplotlib.pyplot as plt\n",
    "\n",
    "# Load your model (ensure compatibility)\n",
    "model = joblib.load(\"artifacts/model1.pkl\")\n",
    "print(type(model))\n",
    "\n",
    "# Check if the model supports feature importances\n",
    "if hasattr(model, \"feature_importances_\"):\n",
    "    importances = model.feature_importances_\n",
    "    feature_names = np.arange(len(importances))  # Replace with actual feature names if available\n",
    "\n",
    "    # Plot Feature Importance\n",
    "    plt.figure(figsize=(10, 6))\n",
    "    indices = np.argsort(importances)[::-1]  # Sort in descending order\n",
    "    plt.bar(range(len(importances)), importances[indices], align=\"center\")\n",
    "    plt.xticks(range(len(importances)), feature_names[indices], rotation=45, ha=\"right\")\n",
    "    plt.xlabel(\"Feature Name\")\n",
    "    plt.ylabel(\"Feature Importance\")\n",
    "    plt.title(\"Feature Importance Graph\")\n",
    "    plt.show()\n",
    "\n",
    "else:\n",
    "    print(\"The model does not have 'feature_importances_' attribute.\")\n"
   ]
  }
 ],
 "metadata": {
  "kernelspec": {
   "display_name": "base",
   "language": "python",
   "name": "python3"
  },
  "language_info": {
   "codemirror_mode": {
    "name": "ipython",
    "version": 3
   },
   "file_extension": ".py",
   "mimetype": "text/x-python",
   "name": "python",
   "nbconvert_exporter": "python",
   "pygments_lexer": "ipython3",
   "version": "3.10.13"
  }
 },
 "nbformat": 4,
 "nbformat_minor": 2
}
